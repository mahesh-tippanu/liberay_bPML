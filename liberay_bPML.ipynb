{
  "nbformat": 4,
  "nbformat_minor": 0,
  "metadata": {
    "colab": {
      "provenance": [],
      "mount_file_id": "1N94cWtSvUwCH8Rn1MeKdbqydCdFzggNX",
      "authorship_tag": "ABX9TyOsVm0xkXOXINnu2YKVFgS1",
      "include_colab_link": true
    },
    "kernelspec": {
      "name": "python3",
      "display_name": "Python 3"
    },
    "language_info": {
      "name": "python"
    }
  },
  "cells": [
    {
      "cell_type": "markdown",
      "metadata": {
        "id": "view-in-github",
        "colab_type": "text"
      },
      "source": [
        "<a href=\"https://colab.research.google.com/github/mahesh-tippanu/liberay_bPML/blob/feature%2Ffeature-engineering/liberay_bPML.ipynb\" target=\"_parent\"><img src=\"https://colab.research.google.com/assets/colab-badge.svg\" alt=\"Open In Colab\"/></a>"
      ]
    },
    {
      "cell_type": "markdown",
      "source": [
        "Data Preprocessing\n",
        "\n",
        "Load the dataset using pandas from an Excel file.\n",
        "Handle missing values by filling them with median (for numerical columns like SNIP and SJR) and mode (for categorical columns like Publisher).\n",
        "Drop columns with excessive missing values (Print ISSN and E-ISSN).\n",
        "Handle duplicate entries using drop_duplicates()."
      ],
      "metadata": {
        "id": "U09jVqwLJZGb"
      }
    },
    {
      "cell_type": "code",
      "source": [
        "import pandas as pd\n",
        "\n",
        "file_path = '/content/drive/MyDrive/Machine Learning Project/Ist Quratile journals Scopus (1).xlsx'\n",
        "df = pd.read_excel(file_path, sheet_name='Sheet1')\n",
        "\n",
        "# Handle missing values\n",
        "df['SNIP'].fillna(df['SNIP'].median(), inplace=True)\n",
        "df['SJR'].fillna(df['SJR'].median(), inplace=True)\n",
        "df['Publisher'].fillna(df['Publisher'].mode()[0], inplace=True)\n",
        "df['Main Publisher'].fillna(df['Main Publisher'].mode()[0], inplace=True)\n",
        "\n",
        "# Drop columns with excessive missing values\n",
        "df_cleaned = df.drop(columns=['Print ISSN', 'E-ISSN'])\n",
        "\n",
        "# Handle duplicate entries\n",
        "df_cleaned.drop_duplicates(inplace=True)\n",
        "\n",
        "# Save the cleaned data for the next step\n",
        "df_cleaned.to_excel('cleaned_journal_data.xlsx', index=False)\n"
      ],
      "metadata": {
        "colab": {
          "base_uri": "https://localhost:8080/"
        },
        "id": "43DcaGNbJfZx",
        "outputId": "1f8ae5c2-a6f7-4d3a-d7b9-09ba6473798b"
      },
      "execution_count": 1,
      "outputs": [
        {
          "output_type": "stream",
          "name": "stderr",
          "text": [
            "<ipython-input-1-5804d5e88c0c>:7: FutureWarning: A value is trying to be set on a copy of a DataFrame or Series through chained assignment using an inplace method.\n",
            "The behavior will change in pandas 3.0. This inplace method will never work because the intermediate object on which we are setting values always behaves as a copy.\n",
            "\n",
            "For example, when doing 'df[col].method(value, inplace=True)', try using 'df.method({col: value}, inplace=True)' or df[col] = df[col].method(value) instead, to perform the operation inplace on the original object.\n",
            "\n",
            "\n",
            "  df['SNIP'].fillna(df['SNIP'].median(), inplace=True)\n",
            "<ipython-input-1-5804d5e88c0c>:8: FutureWarning: A value is trying to be set on a copy of a DataFrame or Series through chained assignment using an inplace method.\n",
            "The behavior will change in pandas 3.0. This inplace method will never work because the intermediate object on which we are setting values always behaves as a copy.\n",
            "\n",
            "For example, when doing 'df[col].method(value, inplace=True)', try using 'df.method({col: value}, inplace=True)' or df[col] = df[col].method(value) instead, to perform the operation inplace on the original object.\n",
            "\n",
            "\n",
            "  df['SJR'].fillna(df['SJR'].median(), inplace=True)\n",
            "<ipython-input-1-5804d5e88c0c>:9: FutureWarning: A value is trying to be set on a copy of a DataFrame or Series through chained assignment using an inplace method.\n",
            "The behavior will change in pandas 3.0. This inplace method will never work because the intermediate object on which we are setting values always behaves as a copy.\n",
            "\n",
            "For example, when doing 'df[col].method(value, inplace=True)', try using 'df.method({col: value}, inplace=True)' or df[col] = df[col].method(value) instead, to perform the operation inplace on the original object.\n",
            "\n",
            "\n",
            "  df['Publisher'].fillna(df['Publisher'].mode()[0], inplace=True)\n",
            "<ipython-input-1-5804d5e88c0c>:10: FutureWarning: A value is trying to be set on a copy of a DataFrame or Series through chained assignment using an inplace method.\n",
            "The behavior will change in pandas 3.0. This inplace method will never work because the intermediate object on which we are setting values always behaves as a copy.\n",
            "\n",
            "For example, when doing 'df[col].method(value, inplace=True)', try using 'df.method({col: value}, inplace=True)' or df[col] = df[col].method(value) instead, to perform the operation inplace on the original object.\n",
            "\n",
            "\n",
            "  df['Main Publisher'].fillna(df['Main Publisher'].mode()[0], inplace=True)\n"
          ]
        }
      ]
    },
    {
      "cell_type": "markdown",
      "source": [
        "Feature-engineering Aggregate the dataset by grouping duplicates based on Scopus Source ID and RANK, taking the mean of the Top 10% (CiteScore Percentile) feature. Pivot the data to create a user-item matrix, where rows represent journals (based on Scopus Source ID), columns represent RANK, and values represent Top 10% (CiteScore Percentile)"
      ],
      "metadata": {
        "id": "OD2fEpizLMtt"
      }
    },
    {
      "cell_type": "code",
      "source": [
        "#pip install numpy pandas scikit-learn seaborn\n"
      ],
      "metadata": {
        "colab": {
          "base_uri": "https://localhost:8080/"
        },
        "id": "tud-O3ioyBTm",
        "outputId": "d5b416da-e503-4b97-d490-d64ea03b8659"
      },
      "execution_count": 1,
      "outputs": [
        {
          "output_type": "stream",
          "name": "stdout",
          "text": [
            "Requirement already satisfied: numpy in /usr/local/lib/python3.10/dist-packages (1.26.4)\n",
            "Requirement already satisfied: pandas in /usr/local/lib/python3.10/dist-packages (2.2.2)\n",
            "Requirement already satisfied: scikit-learn in /usr/local/lib/python3.10/dist-packages (1.5.2)\n",
            "Requirement already satisfied: seaborn in /usr/local/lib/python3.10/dist-packages (0.13.2)\n",
            "Requirement already satisfied: python-dateutil>=2.8.2 in /usr/local/lib/python3.10/dist-packages (from pandas) (2.8.2)\n",
            "Requirement already satisfied: pytz>=2020.1 in /usr/local/lib/python3.10/dist-packages (from pandas) (2024.2)\n",
            "Requirement already satisfied: tzdata>=2022.7 in /usr/local/lib/python3.10/dist-packages (from pandas) (2024.2)\n",
            "Requirement already satisfied: scipy>=1.6.0 in /usr/local/lib/python3.10/dist-packages (from scikit-learn) (1.13.1)\n",
            "Requirement already satisfied: joblib>=1.2.0 in /usr/local/lib/python3.10/dist-packages (from scikit-learn) (1.4.2)\n",
            "Requirement already satisfied: threadpoolctl>=3.1.0 in /usr/local/lib/python3.10/dist-packages (from scikit-learn) (3.5.0)\n",
            "Requirement already satisfied: matplotlib!=3.6.1,>=3.4 in /usr/local/lib/python3.10/dist-packages (from seaborn) (3.7.1)\n",
            "Requirement already satisfied: contourpy>=1.0.1 in /usr/local/lib/python3.10/dist-packages (from matplotlib!=3.6.1,>=3.4->seaborn) (1.3.0)\n",
            "Requirement already satisfied: cycler>=0.10 in /usr/local/lib/python3.10/dist-packages (from matplotlib!=3.6.1,>=3.4->seaborn) (0.12.1)\n",
            "Requirement already satisfied: fonttools>=4.22.0 in /usr/local/lib/python3.10/dist-packages (from matplotlib!=3.6.1,>=3.4->seaborn) (4.54.1)\n",
            "Requirement already satisfied: kiwisolver>=1.0.1 in /usr/local/lib/python3.10/dist-packages (from matplotlib!=3.6.1,>=3.4->seaborn) (1.4.7)\n",
            "Requirement already satisfied: packaging>=20.0 in /usr/local/lib/python3.10/dist-packages (from matplotlib!=3.6.1,>=3.4->seaborn) (24.1)\n",
            "Requirement already satisfied: pillow>=6.2.0 in /usr/local/lib/python3.10/dist-packages (from matplotlib!=3.6.1,>=3.4->seaborn) (10.4.0)\n",
            "Requirement already satisfied: pyparsing>=2.3.1 in /usr/local/lib/python3.10/dist-packages (from matplotlib!=3.6.1,>=3.4->seaborn) (3.1.4)\n",
            "Requirement already satisfied: six>=1.5 in /usr/local/lib/python3.10/dist-packages (from python-dateutil>=2.8.2->pandas) (1.16.0)\n"
          ]
        }
      ]
    },
    {
      "cell_type": "markdown",
      "source": [
        "Accessing Files: Files in your Drive are accessible under /content/drive/MyDrive/.\n",
        "Adjust the path to match the folder and file structure in your Google Drive.\n"
      ],
      "metadata": {
        "id": "ploQrFyvAuUb"
      }
    },
    {
      "cell_type": "code",
      "source": [
        "import pandas as pd\n",
        "\n",
        "file_path = '/content/drive/MyDrive/Machine Learning Project/Ist Quratile journals Scopus (1).xlsx'\n",
        "df = pd.read_excel(file_path, sheet_name='Sheet1')\n",
        "print(df.head())\n"
      ],
      "metadata": {
        "colab": {
          "base_uri": "https://localhost:8080/"
        },
        "id": "V0nC47vhyEIs",
        "outputId": "98654687-9000-4fc1-f010-69590d54b5b6"
      },
      "execution_count": 2,
      "outputs": [
        {
          "output_type": "stream",
          "name": "stdout",
          "text": [
            "   Scopus Source ID                                     Title  Citation Count  \\\n",
            "0             12091         Atmospheric Chemistry and Physics           34849   \n",
            "1             12459  Journal of the National Cancer Institute           11530   \n",
            "2             12459  Journal of the National Cancer Institute           11530   \n",
            "3             13877   European Journal of Mechanics, A/Solids            6294   \n",
            "4             13877   European Journal of Mechanics, A/Solids            6294   \n",
            "\n",
            "   Scholarly Output  Percent Cited  CiteScore   SNIP    SJR  \\\n",
            "0              3251             85       10.7  1.291  2.138   \n",
            "1               679             88       17.0  2.556  4.986   \n",
            "2               679             88       17.0  2.556  4.986   \n",
            "3               899             83        7.0  1.447  0.993   \n",
            "4               899             83        7.0  1.447  0.993   \n",
            "\n",
            "   Scopus ASJC Code (Sub-subject Area)      Scopus Sub-Subject Area  ...  \\\n",
            "0                                 1902          Atmospheric Science  ...   \n",
            "1                                 2730                     Oncology  ...   \n",
            "2                                 1306              Cancer Research  ...   \n",
            "3                                 3100  Physics and Astronomy (all)  ...   \n",
            "4                                 2210       Mechanical Engineering  ...   \n",
            "\n",
            "   RANK  Rank Out Of                Publisher           Main Publisher Type  \\\n",
            "0     8          148               Copernicus               Copernicus    j   \n",
            "1    28          404  Oxford University Press  Oxford University Press    j   \n",
            "2    21          230  Oxford University Press  Oxford University Press    j   \n",
            "3    39          243                 Elsevier                 Elsevier    j   \n",
            "4   116          672                 Elsevier                 Elsevier    j   \n",
            "\n",
            "  Open Access Top 10% (CiteScore Percentile)  \\\n",
            "0         Yes                           True   \n",
            "1          No                           True   \n",
            "2          No                           True   \n",
            "3          No                          False   \n",
            "4          No                          False   \n",
            "\n",
            "                    URL Scopus Source ID Print ISSN    E-ISSN  \n",
            "0  https://www.scopus.com/sourceid/12091   16807316  16807324  \n",
            "1  https://www.scopus.com/sourceid/12459     278874  14602105  \n",
            "2  https://www.scopus.com/sourceid/12459     278874  14602105  \n",
            "3  https://www.scopus.com/sourceid/13877    9977538       NaN  \n",
            "4  https://www.scopus.com/sourceid/13877    9977538       NaN  \n",
            "\n",
            "[5 rows x 21 columns]\n"
          ]
        }
      ]
    }
  ]
}