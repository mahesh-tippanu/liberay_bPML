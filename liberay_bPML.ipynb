{
  "nbformat": 4,
  "nbformat_minor": 0,
  "metadata": {
    "colab": {
      "provenance": [],
      "toc_visible": true,
      "mount_file_id": "1N94cWtSvUwCH8Rn1MeKdbqydCdFzggNX",
      "authorship_tag": "ABX9TyNfQ3+sgjEhrjM+vuw25SKv",
      "include_colab_link": true
    },
    "kernelspec": {
      "name": "python3",
      "display_name": "Python 3"
    },
    "language_info": {
      "name": "python"
    }
  },
  "cells": [
    {
      "cell_type": "markdown",
      "metadata": {
        "id": "view-in-github",
        "colab_type": "text"
      },
      "source": [
        "<a href=\"https://colab.research.google.com/github/mahesh-tippanu/liberay_bPML/blob/b-feature%2Fdata-preprocessing/liberay_bPML.ipynb\" target=\"_parent\"><img src=\"https://colab.research.google.com/assets/colab-badge.svg\" alt=\"Open In Colab\"/></a>"
      ]
    },
    {
      "cell_type": "markdown",
      "source": [
        "Data Preprocessing"
      ],
      "metadata": {
        "id": "U09jVqwLJZGb"
      }
    },
    {
      "cell_type": "code",
      "source": [
        "\n",
        "import pandas as pd\n",
        "\n",
        "file_path = '/content/drive/MyDrive/Machine Learning Project/Ist Quratile journals Scopus (1).xlsx'\n",
        "df = pd.read_excel(file_path, sheet_name='Sheet1')\n",
        "\n",
        "# Handle missing values\n",
        "df['SNIP'].fillna(df['SNIP'].median(), inplace=True)\n",
        "df['SJR'].fillna(df['SJR'].median(), inplace=True)\n",
        "df['Publisher'].fillna(df['Publisher'].mode()[0], inplace=True)\n",
        "df['Main Publisher'].fillna(df['Main Publisher'].mode()[0], inplace=True)\n",
        "\n",
        "# Drop columns with excessive missing values\n",
        "df_cleaned = df.drop(columns=['Print ISSN', 'E-ISSN'])\n",
        "\n",
        "# Handle duplicate entries\n",
        "df_cleaned.drop_duplicates(inplace=True)\n",
        "\n",
        "# Save the cleaned data for the next step\n",
        "df_cleaned.to_excel('cleaned_journal_data.xlsx', index=False)\n"
      ],
      "metadata": {
        "colab": {
          "base_uri": "https://localhost:8080/"
        },
        "id": "43DcaGNbJfZx",
        "outputId": "0683c767-05c6-4632-d410-b63cf6dd8436"
      },
      "execution_count": 1,
      "outputs": [
        {
          "output_type": "stream",
          "name": "stderr",
          "text": [
            "<ipython-input-1-8a314bc0e57a>:7: FutureWarning: A value is trying to be set on a copy of a DataFrame or Series through chained assignment using an inplace method.\n",
            "The behavior will change in pandas 3.0. This inplace method will never work because the intermediate object on which we are setting values always behaves as a copy.\n",
            "\n",
            "For example, when doing 'df[col].method(value, inplace=True)', try using 'df.method({col: value}, inplace=True)' or df[col] = df[col].method(value) instead, to perform the operation inplace on the original object.\n",
            "\n",
            "\n",
            "  df['SNIP'].fillna(df['SNIP'].median(), inplace=True)\n",
            "<ipython-input-1-8a314bc0e57a>:8: FutureWarning: A value is trying to be set on a copy of a DataFrame or Series through chained assignment using an inplace method.\n",
            "The behavior will change in pandas 3.0. This inplace method will never work because the intermediate object on which we are setting values always behaves as a copy.\n",
            "\n",
            "For example, when doing 'df[col].method(value, inplace=True)', try using 'df.method({col: value}, inplace=True)' or df[col] = df[col].method(value) instead, to perform the operation inplace on the original object.\n",
            "\n",
            "\n",
            "  df['SJR'].fillna(df['SJR'].median(), inplace=True)\n",
            "<ipython-input-1-8a314bc0e57a>:9: FutureWarning: A value is trying to be set on a copy of a DataFrame or Series through chained assignment using an inplace method.\n",
            "The behavior will change in pandas 3.0. This inplace method will never work because the intermediate object on which we are setting values always behaves as a copy.\n",
            "\n",
            "For example, when doing 'df[col].method(value, inplace=True)', try using 'df.method({col: value}, inplace=True)' or df[col] = df[col].method(value) instead, to perform the operation inplace on the original object.\n",
            "\n",
            "\n",
            "  df['Publisher'].fillna(df['Publisher'].mode()[0], inplace=True)\n",
            "<ipython-input-1-8a314bc0e57a>:10: FutureWarning: A value is trying to be set on a copy of a DataFrame or Series through chained assignment using an inplace method.\n",
            "The behavior will change in pandas 3.0. This inplace method will never work because the intermediate object on which we are setting values always behaves as a copy.\n",
            "\n",
            "For example, when doing 'df[col].method(value, inplace=True)', try using 'df.method({col: value}, inplace=True)' or df[col] = df[col].method(value) instead, to perform the operation inplace on the original object.\n",
            "\n",
            "\n",
            "  df['Main Publisher'].fillna(df['Main Publisher'].mode()[0], inplace=True)\n"
          ]
        }
      ]
    }
  ]
}